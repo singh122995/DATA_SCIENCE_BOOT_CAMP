{
 "cells": [
  {
   "cell_type": "markdown",
   "id": "413ebb5c",
   "metadata": {},
   "source": [
    "1.  What is indentation error? Why indentation is important? Give one simple example?"
   ]
  },
  {
   "cell_type": "raw",
   "id": "f30ee299",
   "metadata": {},
   "source": [
    "The error which occur due misplacement of space or tab is called indentation error, It is important because is represent a block of code.\n",
    "Eg:- "
   ]
  },
  {
   "cell_type": "code",
   "execution_count": 6,
   "id": "efbed8be",
   "metadata": {},
   "outputs": [
    {
     "name": "stdout",
     "output_type": "stream",
     "text": [
      "0123456789"
     ]
    }
   ],
   "source": [
    "for i in range(10):\n",
    "    print(i, end=\"\")"
   ]
  },
  {
   "cell_type": "code",
   "execution_count": 10,
   "id": "c5b1738f",
   "metadata": {},
   "outputs": [
    {
     "ename": "IndentationError",
     "evalue": "expected an indented block (3979827255.py, line 2)",
     "output_type": "error",
     "traceback": [
      "\u001b[0;36m  File \u001b[0;32m\"/tmp/ipykernel_13857/3979827255.py\"\u001b[0;36m, line \u001b[0;32m2\u001b[0m\n\u001b[0;31m    print(i)\u001b[0m\n\u001b[0m    ^\u001b[0m\n\u001b[0;31mIndentationError\u001b[0m\u001b[0;31m:\u001b[0m expected an indented block\n"
     ]
    }
   ],
   "source": [
    "for i in range(10):\n",
    "print(i)"
   ]
  },
  {
   "cell_type": "markdown",
   "id": "691bcc9e",
   "metadata": {},
   "source": [
    "2. Correct the following code and write the comment where you made the correction?\n",
    "\n",
    "  ```python\n",
    "  class_started = bool(input(\"Hey friend, is class started?: [0-False/1-True]\"))\n",
    "\n",
    "  if class_started:\n",
    "      print(\"Since class started...\")\n",
    "      print(\"Lets concentrate\")\n",
    "  else:\n",
    "      print(\"Since class is not started...\")\n",
    "      print(\"let's revise\")    \n",
    "  ```\n",
    "\n",
    "  **HINT:** Refer your data type conversion class"
   ]
  },
  {
   "cell_type": "code",
   "execution_count": 11,
   "id": "7c074495",
   "metadata": {},
   "outputs": [
    {
     "name": "stdout",
     "output_type": "stream",
     "text": [
      "Hey friend, is class started?: [0-False/1-True]0\n",
      "Since class is not started...\n",
      "let's revise\n"
     ]
    }
   ],
   "source": [
    "class_started = input(\"Hey friend, is class started?: [0-False/1-True]\") # removed the bool part\n",
    "\n",
    "if class_started == '1' or class_started == 'True': # modified the if condition to check if it's equal to '1' or 'True'\n",
    "    print(\"Since class started...\")\n",
    "    print(\"Lets concentrate\")\n",
    "else:\n",
    "    print(\"Since class is not started...\")\n",
    "    print(\"let's revise\")"
   ]
  },
  {
   "cell_type": "markdown",
   "id": "cc8a7bef",
   "metadata": {},
   "source": [
    "3. Use if else condition to verify that dataype of `input()` method in python is always string."
   ]
  },
  {
   "cell_type": "code",
   "execution_count": 12,
   "id": "ea45f350",
   "metadata": {},
   "outputs": [
    {
     "name": "stdout",
     "output_type": "stream",
     "text": [
      "Please enter the string:- Hello\n",
      "I am a string\n"
     ]
    }
   ],
   "source": [
    "string_3 = input(\"Please enter the string:- \")\n",
    "\n",
    "if type(class_started) == str:\n",
    "    print(\"I am a string\")\n",
    "else:\n",
    "    print(\"I am not a string\")"
   ]
  },
  {
   "cell_type": "code",
   "execution_count": null,
   "id": "e196c33b",
   "metadata": {},
   "outputs": [],
   "source": []
  },
  {
   "cell_type": "markdown",
   "id": "6fe55e5f",
   "metadata": {},
   "source": [
    "4. Take 3 variables and assign integer values to them. Find the largest variable, by only using the if and else conditions."
   ]
  },
  {
   "cell_type": "code",
   "execution_count": 18,
   "id": "6fea6da4",
   "metadata": {},
   "outputs": [
    {
     "name": "stdout",
     "output_type": "stream",
     "text": [
      "The 200 is the largest.\n"
     ]
    }
   ],
   "source": [
    "num1 = -100\n",
    "num2 = 200\n",
    "num3 = -3000\n",
    "\n",
    "if num1 < num2:\n",
    "    if num2 < num3:\n",
    "        print(f'The {num3} is the largest.')\n",
    "    else:\n",
    "        print(f'The {num2} is the largest.')\n",
    "else:\n",
    "    print(f'The {num1} is the largest.')\n",
    "        "
   ]
  },
  {
   "cell_type": "code",
   "execution_count": null,
   "id": "df495446",
   "metadata": {},
   "outputs": [],
   "source": []
  },
  {
   "cell_type": "markdown",
   "id": "34821585",
   "metadata": {},
   "source": [
    "5. What would be the solution?\n",
    "    1. True\n",
    "    2. False\n",
    "\n",
    "    ```python\n",
    "    a = 6\n",
    "    b = 10\n",
    "    print( not ( not a == 10 or not b == 10) )"
   ]
  },
  {
   "cell_type": "markdown",
   "id": "1feb86bf",
   "metadata": {},
   "source": [
    "B. False"
   ]
  },
  {
   "cell_type": "markdown",
   "id": "45dda9fc",
   "metadata": {},
   "source": [
    "\n",
    "\n",
    "\n",
    "\n",
    "\n",
    "\n",
    "\n",
    "\n",
    "\n",
    "\n",
    "\n",
    "    \n",
    "6. Find the answer as well as find out the reason behind the result? -\n",
    "    - case 1:\n",
    "        ```python\n",
    "        A = 5.0\n",
    "        B = 10/2\n",
    "        print(A is B)\n",
    "        ```\n",
    "    - case 2:\n",
    "        ```python\n",
    "        A = 5.0\n",
    "        B = int(10/2)\n",
    "        print(A is B)\n",
    "        ```\n",
    "    - case 3:\n",
    "        ```python\n",
    "        A = 5.0\n",
    "        B = float(10/2)\n",
    "        print(A is B)\n",
    "        ```"
   ]
  },
  {
   "cell_type": "markdown",
   "id": "b631cd9d",
   "metadata": {},
   "source": [
    "In all the 3 cases the output will be False as the `is` key is used to check if the allocated variable points out at same object. and clearly in all the 3 cases we can see the A and B is refered to diffrent object."
   ]
  },
  {
   "cell_type": "code",
   "execution_count": null,
   "id": "16afe2dd",
   "metadata": {},
   "outputs": [],
   "source": []
  },
  {
   "cell_type": "markdown",
   "id": "7ac68f67",
   "metadata": {},
   "source": [
    "\n",
    "7. Write a program that asks the user to enter a number. You should print out a message to the user, either “That number is divisible by either 3 or 5”, or “That number is not divisible by either 3 or 5”. Be sure to consider the data type of the input you are taking in from the user. Use a single if/else block to solve this problem."
   ]
  },
  {
   "cell_type": "code",
   "execution_count": 25,
   "id": "431b6f93",
   "metadata": {},
   "outputs": [
    {
     "name": "stdout",
     "output_type": "stream",
     "text": [
      "Enter the number:- 7\n",
      "That number is not divisible by either 3 or 5\n"
     ]
    }
   ],
   "source": [
    "num1 = int(input('Enter the number:- '))\n",
    "if num1%3 == 0 or num1%5 == 0:\n",
    "    print('That number is divisible by either 3 or 5')\n",
    "else:\n",
    "    print('That number is not divisible by either 3 or 5')"
   ]
  },
  {
   "cell_type": "markdown",
   "id": "16d2d6e9",
   "metadata": {},
   "source": [
    "8. Take user input for length and width. Then calculate the area of rectangle. Also print as per length and width whether its a square of rectangle."
   ]
  },
  {
   "cell_type": "code",
   "execution_count": 30,
   "id": "1bd8c992",
   "metadata": {},
   "outputs": [
    {
     "name": "stdout",
     "output_type": "stream",
     "text": [
      "Enter the length of rectangle:- 30\n",
      "Enter the width of rectangle:- 30\n",
      "The area of rectangle is 900\n",
      "The rectangle is a square.\n"
     ]
    }
   ],
   "source": [
    "length = int(input('Enter the length of rectangle:- '))\n",
    "width = int(input('Enter the width of rectangle:- '))\n",
    "\n",
    "print(f'The area of rectangle is {length * width}')\n",
    "if length == width:\n",
    "    print('The rectangle is a square.')"
   ]
  },
  {
   "cell_type": "markdown",
   "id": "49d52942",
   "metadata": {},
   "source": [
    "9. Take two variable radius_1 and radius_2 and calculate the area of circle_1 and circle_2. Also print which circle has large area. If area is equal then print area is equal."
   ]
  },
  {
   "cell_type": "code",
   "execution_count": 32,
   "id": "f98b3296",
   "metadata": {},
   "outputs": [
    {
     "name": "stdout",
     "output_type": "stream",
     "text": [
      "Enter the radius_1 of circle_1:- 10\n",
      "Enter the radius_2 of circle_2:- 10\n",
      "circles are is equal\n"
     ]
    }
   ],
   "source": [
    "radius_1 = int(input('Enter the radius_1 of circle_1:- '))\n",
    "radius_2 = int(input('Enter the radius_2 of circle_2:- '))\n",
    "\n",
    "area_of_circle_1 = (22*(radius_1**2)/7)\n",
    "area_of_circle_2 = (22*(radius_2**2)/7)\n",
    "\n",
    "if area_of_circle_1 > area_of_circle_2:\n",
    "    print(f'circle_1 has large area.')\n",
    "elif area_of_circle_1 < area_of_circle_2:\n",
    "    print(f'circle_2 has large area.')\n",
    "else:\n",
    "    print('circles are is equal')\n",
    "    "
   ]
  },
  {
   "cell_type": "markdown",
   "id": "1f549d41",
   "metadata": {},
   "source": [
    "10. Check whether a year is leap year or not. Use nested if...else to solve this problem. A leap year is exactly divisible by 4 except for century years (years ending with 00). The century year is a leap year only if it is perfectly divisible by 400."
   ]
  },
  {
   "cell_type": "code",
   "execution_count": 36,
   "id": "b706fb48",
   "metadata": {},
   "outputs": [
    {
     "name": "stdout",
     "output_type": "stream",
     "text": [
      "Enter the year to check leap year:- 50\n",
      "not a leap year\n"
     ]
    }
   ],
   "source": [
    "year = int(input('Enter the year to check leap year:- '))\n",
    "\n",
    "if year%4 == 0:\n",
    "    if year%100 == 0:\n",
    "        if year%400 == 0:\n",
    "            print('leap year')\n",
    "        else:\n",
    "            print('not a leap year')\n",
    "    else:\n",
    "        print('leap year')\n",
    "else:\n",
    "    print('not a leap year')"
   ]
  },
  {
   "cell_type": "code",
   "execution_count": null,
   "id": "353ff6c8",
   "metadata": {},
   "outputs": [],
   "source": []
  }
 ],
 "metadata": {
  "kernelspec": {
   "display_name": "Python 3 (ipykernel)",
   "language": "python",
   "name": "python3"
  },
  "language_info": {
   "codemirror_mode": {
    "name": "ipython",
    "version": 3
   },
   "file_extension": ".py",
   "mimetype": "text/x-python",
   "name": "python",
   "nbconvert_exporter": "python",
   "pygments_lexer": "ipython3",
   "version": "3.9.13"
  }
 },
 "nbformat": 4,
 "nbformat_minor": 5
}
