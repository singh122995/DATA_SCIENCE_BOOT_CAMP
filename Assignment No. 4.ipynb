{
 "cells": [
  {
   "cell_type": "markdown",
   "id": "760a5c19",
   "metadata": {},
   "source": [
    "Q1. Find the largest number from the given list, use for loop.\n",
    "    "
   ]
  },
  {
   "cell_type": "code",
   "execution_count": 3,
   "id": "05bf0890",
   "metadata": {},
   "outputs": [
    {
     "name": "stdout",
     "output_type": "stream",
     "text": [
      "525 is the largest number in the numbers list.\n"
     ]
    }
   ],
   "source": [
    "numbers = [12, 75, 150, 180, 145, 525, 50]\n",
    "\n",
    "for i in range(len(numbers)): # 0\n",
    "    for j in range(i+1, len(numbers)): # j = 1\n",
    "        if numbers[i] > numbers[j]:\n",
    "            numbers[i],numbers[j] = numbers[j],numbers[i]\n",
    "\n",
    "print(f\"{numbers[-1]} is the largest number in the numbers list.\")"
   ]
  },
  {
   "cell_type": "markdown",
   "id": "9e9601c7",
   "metadata": {},
   "source": [
    "Q2. Print all the even number between (1, 12)."
   ]
  },
  {
   "cell_type": "code",
   "execution_count": 6,
   "id": "f096507b",
   "metadata": {},
   "outputs": [
    {
     "name": "stdout",
     "output_type": "stream",
     "text": [
      "2 4 6 8 10 "
     ]
    }
   ],
   "source": [
    "for i in range(1,12):\n",
    "    if i%2 == 0:\n",
    "        print(i, end=' ')"
   ]
  },
  {
   "cell_type": "markdown",
   "id": "8e40dad4",
   "metadata": {},
   "source": [
    "Q3. Calculate the sum of all numbers from 1 to a given number"
   ]
  },
  {
   "cell_type": "code",
   "execution_count": 13,
   "id": "3128a978",
   "metadata": {},
   "outputs": [
    {
     "name": "stdout",
     "output_type": "stream",
     "text": [
      "Enter the number:- 10\n",
      "The sum is 55\n"
     ]
    }
   ],
   "source": [
    "given_number = int(input(\"Enter the number:- \"))\n",
    "print(f'The sum is {sum(list(range(1,given_number+1)))}')"
   ]
  },
  {
   "cell_type": "markdown",
   "id": "923422e5",
   "metadata": {},
   "source": [
    "Q4. Write a program to display only those numbers from a list that satisfy the following conditions\n",
    "\n",
    "    The number must be divisible by five\n",
    "\n",
    "    If the number is greater than 150, then skip it and move to the next number\n",
    "\n",
    "    If the number is greater than 500, then stop the loop\n",
    "\n"
   ]
  },
  {
   "cell_type": "code",
   "execution_count": 21,
   "id": "ca0a3ed7",
   "metadata": {},
   "outputs": [
    {
     "name": "stdout",
     "output_type": "stream",
     "text": [
      "75\n",
      "150\n",
      "145\n"
     ]
    }
   ],
   "source": [
    "numbers = [12, 75, 150, 180, 145, 525, 50]\n",
    "\n",
    "for i in numbers:\n",
    "    if i > 500:\n",
    "        break\n",
    "    elif i%5 == 0 and not i > 150:\n",
    "        print(i)"
   ]
  },
  {
   "cell_type": "markdown",
   "id": "382b12c1",
   "metadata": {},
   "source": [
    "Q5. Print the given list in reverse order."
   ]
  },
  {
   "cell_type": "code",
   "execution_count": 28,
   "id": "ef2ecdd4",
   "metadata": {},
   "outputs": [
    {
     "name": "stdout",
     "output_type": "stream",
     "text": [
      "[50, 40, 30, 20, 10]\n",
      "[50, 40, 30, 20, 10]\n"
     ]
    }
   ],
   "source": [
    "#1st method\n",
    "list1 = [10,20,30,40,50]\n",
    "print(list1[::-1])\n",
    "\n",
    "\n",
    "# 2nd method\n",
    "list2 = list()\n",
    "for i in range(len(list1)-1, -1, -1):\n",
    "    list2.append(list1[i])\n",
    "print(list2)"
   ]
  },
  {
   "cell_type": "code",
   "execution_count": null,
   "id": "0ed6a602",
   "metadata": {},
   "outputs": [],
   "source": []
  }
 ],
 "metadata": {
  "kernelspec": {
   "display_name": "Python 3 (ipykernel)",
   "language": "python",
   "name": "python3"
  },
  "language_info": {
   "codemirror_mode": {
    "name": "ipython",
    "version": 3
   },
   "file_extension": ".py",
   "mimetype": "text/x-python",
   "name": "python",
   "nbconvert_exporter": "python",
   "pygments_lexer": "ipython3",
   "version": "3.9.13"
  }
 },
 "nbformat": 4,
 "nbformat_minor": 5
}
