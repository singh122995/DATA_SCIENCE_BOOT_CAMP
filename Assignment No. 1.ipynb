{
 "cells": [
  {
   "cell_type": "markdown",
   "id": "6730811a",
   "metadata": {},
   "source": [
    "## Find out all the types of error that we have encountered in our lecture and why? Also include the examples."
   ]
  },
  {
   "cell_type": "raw",
   "id": "05728024",
   "metadata": {},
   "source": [
    "The error are as follows:-\n",
    "NameError:- This error occurs when correct name is not present, or we are trying to call diffrent name.\n",
    "TypeError: - The data type of any object in python is not ok.\n",
    "syntaxerror:- When the code has wrong syntax. eg:- indent issue, not using :\n",
    "ValueError: - when a user gives an invalid value to a function but is of a valid argument"
   ]
  },
  {
   "cell_type": "markdown",
   "id": "17c0a36a",
   "metadata": {},
   "source": [
    "### Take input A and B and print their sum, mul, div, square of the nos."
   ]
  },
  {
   "cell_type": "code",
   "execution_count": 2,
   "id": "befe5840",
   "metadata": {},
   "outputs": [
    {
     "name": "stdout",
     "output_type": "stream",
     "text": [
      "Enter the first number:- 10\n",
      "Enter the second number:- 20\n",
      "30\n",
      "200\n",
      "0.5\n",
      "100\n",
      "400\n"
     ]
    }
   ],
   "source": [
    "input_A = int(input('Enter the first number:- '))\n",
    "input_B = int(input('Enter the second number:- '))\n",
    "\n",
    "sum_of_num = input_A + input_B\n",
    "mul_of_num = input_A * input_B\n",
    "div_of_num = input_A / input_B\n",
    "square_of_input_A = input_A**2\n",
    "square_of_input_B = input_B**2\n",
    "\n",
    "print(sum_of_num)\n",
    "print(mul_of_num)\n",
    "print(div_of_num)\n",
    "print(square_of_input_A)\n",
    "print(square_of_input_B)"
   ]
  },
  {
   "cell_type": "markdown",
   "id": "53090f76",
   "metadata": {},
   "source": [
    "## How many reserve keywords are there in python and why we should not use them as a variable name."
   ]
  },
  {
   "cell_type": "raw",
   "id": "0bc5e724",
   "metadata": {},
   "source": [
    "There are 33 reserve keyboard in python, We shall not use it as it will create huge confusion and give error and\n",
    "unexpected result.\n"
   ]
  },
  {
   "cell_type": "markdown",
   "id": "003d08f6",
   "metadata": {},
   "source": [
    "## Create email ids with the user inputs. in the following format - lastname.firstname@gmail.com"
   ]
  },
  {
   "cell_type": "code",
   "execution_count": 6,
   "id": "b4802ad3",
   "metadata": {},
   "outputs": [
    {
     "name": "stdout",
     "output_type": "stream",
     "text": [
      "Enter your first name:- prashant\n",
      "Enter your last name:- singh\n",
      "singh.prashant@gmail.com\n"
     ]
    }
   ],
   "source": [
    "firstname = input('Enter your first name:- ')\n",
    "lastname = input('Enter your last name:- ')\n",
    "\n",
    "email_id = f'{lastname}.{firstname}@gmail.com'\n",
    "print(email_id)"
   ]
  },
  {
   "cell_type": "code",
   "execution_count": null,
   "id": "5b9926ff",
   "metadata": {},
   "outputs": [],
   "source": []
  },
  {
   "cell_type": "markdown",
   "id": "987614fa",
   "metadata": {},
   "source": [
    "## Try to print the following lines -\n",
    "\n",
    "    Hi I'm Sunny\n",
    "    My address is 22\\3\n",
    "    I earn 20$ daily.\n"
   ]
  },
  {
   "cell_type": "code",
   "execution_count": 7,
   "id": "a1f48b06",
   "metadata": {},
   "outputs": [
    {
     "name": "stdout",
     "output_type": "stream",
     "text": [
      "Hi I'm Sunny\n",
      "My address is 22\u0003\n",
      "I earn 20$ daily.\n"
     ]
    }
   ],
   "source": [
    "print(\"Hi I'm Sunny\")\n",
    "print('My address is 22\\3')\n",
    "print('I earn 20$ daily.')"
   ]
  },
  {
   "cell_type": "code",
   "execution_count": null,
   "id": "afe3888e",
   "metadata": {},
   "outputs": [],
   "source": []
  },
  {
   "cell_type": "markdown",
   "id": "e4687f9a",
   "metadata": {},
   "source": [
    "## Take user input (name, address, date of birth etc) to fill a form for your college and print their email IDs"
   ]
  },
  {
   "cell_type": "code",
   "execution_count": 11,
   "id": "761c0b03",
   "metadata": {},
   "outputs": [
    {
     "name": "stdout",
     "output_type": "stream",
     "text": [
      "Enter your first name and last name:- Prashant Kumar Singh\n",
      "Enter your address:- Jamshedpur\n",
      "Enter your date of birth:- 22/10/1995\n",
      "Singh.PrashantKumar@gmail.com\n"
     ]
    }
   ],
   "source": [
    "name = input('Enter your first name and last name:- ')\n",
    "address = input('Enter your address:- ')\n",
    "date_of_birth = input('Enter your date of birth:- ')\n",
    "temp = name.split(' ')\n",
    "email_ids = '{}.{}@gmail.com'.format(temp[-1],''.join(temp[:-1]))\n",
    "print(email_ids)"
   ]
  },
  {
   "cell_type": "code",
   "execution_count": null,
   "id": "0235d035",
   "metadata": {},
   "outputs": [],
   "source": []
  },
  {
   "cell_type": "markdown",
   "id": "17774ab7",
   "metadata": {},
   "source": [
    "## Convert the following -\n",
    "\n",
    "    \"22.4\" into integer\n",
    "    \"22\" into complex no.\n"
   ]
  },
  {
   "cell_type": "code",
   "execution_count": 14,
   "id": "e7242456",
   "metadata": {},
   "outputs": [
    {
     "name": "stdout",
     "output_type": "stream",
     "text": [
      "22\n",
      "(22+0j)\n"
     ]
    }
   ],
   "source": [
    "a = \"22.4\"\n",
    "a = int(float(a))\n",
    "b = \"22\"\n",
    "b = complex(b)\n",
    "print(a)\n",
    "print(b)"
   ]
  },
  {
   "cell_type": "code",
   "execution_count": null,
   "id": "2a85e835",
   "metadata": {},
   "outputs": [],
   "source": []
  }
 ],
 "metadata": {
  "kernelspec": {
   "display_name": "Python 3 (ipykernel)",
   "language": "python",
   "name": "python3"
  },
  "language_info": {
   "codemirror_mode": {
    "name": "ipython",
    "version": 3
   },
   "file_extension": ".py",
   "mimetype": "text/x-python",
   "name": "python",
   "nbconvert_exporter": "python",
   "pygments_lexer": "ipython3",
   "version": "3.9.13"
  }
 },
 "nbformat": 4,
 "nbformat_minor": 5
}
