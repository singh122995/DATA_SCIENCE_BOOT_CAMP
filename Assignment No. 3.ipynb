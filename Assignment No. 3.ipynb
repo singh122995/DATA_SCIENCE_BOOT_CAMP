{
 "cells": [
  {
   "cell_type": "markdown",
   "id": "413ebb5c",
   "metadata": {},
   "source": [
    "1. Count the number of times iNeuron appears in the string.\n",
    "```python\n",
    "text = \"Welcome to iNeuron, You are a part of FSDS Bootcamp 2 in iNeuron. I hope you are enjoying the course by iNeuron\"\n",
    "```"
   ]
  },
  {
   "cell_type": "code",
   "execution_count": 3,
   "id": "efbed8be",
   "metadata": {},
   "outputs": [
    {
     "data": {
      "text/plain": [
       "3"
      ]
     },
     "execution_count": 3,
     "metadata": {},
     "output_type": "execute_result"
    }
   ],
   "source": [
    "text = \"Welcome to iNeuron, You are a part of FSDS Bootcamp 2 in iNeuron. I hope you are enjoying the course by iNeuron\"\n",
    "text.count('iNeuron')"
   ]
  },
  {
   "cell_type": "markdown",
   "id": "5c932849",
   "metadata": {},
   "source": [
    "2. Check if position 5 to 11 ends with the phrase iNeuron. in the string\n",
    "```python\n",
    "txt = \"Hello, welcome to FSDS 2.0 at iNeuron.\"\n",
    "```"
   ]
  },
  {
   "cell_type": "code",
   "execution_count": 4,
   "id": "1e839660",
   "metadata": {},
   "outputs": [
    {
     "data": {
      "text/plain": [
       "False"
      ]
     },
     "execution_count": 4,
     "metadata": {},
     "output_type": "execute_result"
    }
   ],
   "source": [
    "txt = \"Hello, welcome to FSDS 2.0 at iNeuron.\"\n",
    "txt[5:12].endswith('iNeuron')"
   ]
  },
  {
   "cell_type": "markdown",
   "id": "fa65e1e3",
   "metadata": {},
   "source": [
    "3. Write a program that takes your full name as input and displays the abbreviations of the first and middle names except the last name which is displayed as it is. For example, if your name is Sunny Bhaveen Chandra, then the output should be S.B.Chandra."
   ]
  },
  {
   "cell_type": "code",
   "execution_count": 5,
   "id": "0a139a52",
   "metadata": {},
   "outputs": [
    {
     "name": "stdout",
     "output_type": "stream",
     "text": [
      "Enter your full Name:- Prashant Singh Ray\n",
      "P.S.Ray\n"
     ]
    }
   ],
   "source": [
    "full_name = input(\"Enter your full Name:- \")\n",
    "\n",
    "first_name, middle_name, last_name = full_name.split(\" \")\n",
    "\n",
    "print(f'{first_name[0]}.{middle_name[0]}.{last_name}')"
   ]
  },
  {
   "cell_type": "markdown",
   "id": "67cbc58e",
   "metadata": {},
   "source": [
    "4. Join all items in a list into a string, using a hash(`#`) character as separator:\n",
    "```python\n",
    "LIST = [\"My\", \"name\", \"is\", \"Prashant\", \"Singh\", \"Ray\"]\n",
    "```"
   ]
  },
  {
   "cell_type": "code",
   "execution_count": 6,
   "id": "72041f9f",
   "metadata": {},
   "outputs": [
    {
     "data": {
      "text/plain": [
       "'My#name#is#Prashant#Singh#Ray'"
      ]
     },
     "execution_count": 6,
     "metadata": {},
     "output_type": "execute_result"
    }
   ],
   "source": [
    "LIST = [\"My\", \"name\", \"is\", \"Prashant\", \"Singh\", \"Ray\"]\n",
    "'#'.join(LIST)"
   ]
  },
  {
   "cell_type": "markdown",
   "id": "01a6ce66",
   "metadata": {},
   "source": [
    "5. Write example for the following string manipulation function,\n",
    "\n",
    "  ```\n",
    "  - isdecimal()\n",
    "  - islower()\n",
    "  - isupper()\n",
    "  - isalpha()\n",
    "  - isnumeric()\n",
    "\n",
    "  ```"
   ]
  },
  {
   "cell_type": "code",
   "execution_count": 8,
   "id": "70da3073",
   "metadata": {},
   "outputs": [
    {
     "data": {
      "text/plain": [
       "True"
      ]
     },
     "execution_count": 8,
     "metadata": {},
     "output_type": "execute_result"
    }
   ],
   "source": [
    "low = 'abc'\n",
    "low.islower()"
   ]
  },
  {
   "cell_type": "code",
   "execution_count": 9,
   "id": "4c592cec",
   "metadata": {},
   "outputs": [
    {
     "data": {
      "text/plain": [
       "True"
      ]
     },
     "execution_count": 9,
     "metadata": {},
     "output_type": "execute_result"
    }
   ],
   "source": [
    "upp = 'ABC'\n",
    "upp.isupper()"
   ]
  },
  {
   "cell_type": "code",
   "execution_count": 12,
   "id": "7e0483b2",
   "metadata": {},
   "outputs": [
    {
     "data": {
      "text/plain": [
       "False"
      ]
     },
     "execution_count": 12,
     "metadata": {},
     "output_type": "execute_result"
    }
   ],
   "source": [
    "string = \"My name is Prashant\"\n",
    "string.isalpha()"
   ]
  },
  {
   "cell_type": "code",
   "execution_count": 15,
   "id": "6c41c553",
   "metadata": {},
   "outputs": [
    {
     "data": {
      "text/plain": [
       "True"
      ]
     },
     "execution_count": 15,
     "metadata": {},
     "output_type": "execute_result"
    }
   ],
   "source": [
    "num = '123456'\n",
    "num.isnumeric()"
   ]
  },
  {
   "cell_type": "markdown",
   "id": "68b7ebdb",
   "metadata": {},
   "source": [
    "6. Indian PAN card format follows the following formats - \n",
    "    - `AYEPC7894X`\n",
    "    - `ABCDE9999Y`\n",
    "    \n",
    "  Take user input for PAN_CARD and validate as per the above example."
   ]
  },
  {
   "cell_type": "code",
   "execution_count": 16,
   "id": "8a4ad306",
   "metadata": {},
   "outputs": [
    {
     "name": "stdout",
     "output_type": "stream",
     "text": [
      "Enter the Pan Number:- achds4563d\n",
      "PAN NUMBER IS CORRECT...!!!\n"
     ]
    }
   ],
   "source": [
    "PAN_NUM = input(\"Enter the Pan Number:- \")\n",
    "if PAN_NUM[:5].isalpha() and PAN_NUM[5:9].isnumeric() and PAN_NUM[-1].isalpha() and len(PAN_NUM) == 10:\n",
    "    print('PAN NUMBER IS CORRECT...!!!')\n",
    "else:\n",
    "    print('PAN NUMBER IS NOT CORRECT...!!!')"
   ]
  }
 ],
 "metadata": {
  "kernelspec": {
   "display_name": "Python 3 (ipykernel)",
   "language": "python",
   "name": "python3"
  },
  "language_info": {
   "codemirror_mode": {
    "name": "ipython",
    "version": 3
   },
   "file_extension": ".py",
   "mimetype": "text/x-python",
   "name": "python",
   "nbconvert_exporter": "python",
   "pygments_lexer": "ipython3",
   "version": "3.9.13"
  }
 },
 "nbformat": 4,
 "nbformat_minor": 5
}
